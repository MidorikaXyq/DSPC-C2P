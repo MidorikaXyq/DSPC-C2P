{
 "cells": [
  {
   "cell_type": "markdown",
   "id": "028d2f0f-d1a2-467c-bfec-0d3b6423ec61",
   "metadata": {},
   "source": [
    "# Data Science Tools and Ecosystem"
   ]
  },
  {
   "cell_type": "markdown",
   "id": "3f5bb3fe-2d8b-4d8c-9538-57c118cbf72e",
   "metadata": {},
   "source": [
    "## Author\n",
    "Jack Wang\n"
   ]
  },
  {
   "cell_type": "markdown",
   "id": "3661f1c4-e808-43f1-8a81-f394782df45a",
   "metadata": {},
   "source": [
    "In this notebook, Data Science Tools and Ecosystem are summarized."
   ]
  },
  {
   "cell_type": "markdown",
   "id": "2f52fec2-8ca0-4c60-97de-b5aa6811ca46",
   "metadata": {},
   "source": [
    "**Objectives:**\n",
    "\n",
    "- List popular languages for Data Science.\n",
    "- Identify commonly used libraries in Data Science.\n",
    "- Introduce commonly used open-source Data Science tools.\n",
    "- Demonstrate basic arithmetic expressions in Python.\n",
    "- Convert time from minutes to hours using Python.\n"
   ]
  },
  {
   "cell_type": "markdown",
   "id": "135fdc60-ab90-4ebc-9583-90f9826e018b",
   "metadata": {},
   "source": [
    "Some of the popular languages that Data Scientists use are:\n",
    "\n",
    "1. Python\n",
    "2. R\n",
    "3. SQL\n",
    "4. Julia\n",
    "5. Scala\n"
   ]
  },
  {
   "cell_type": "markdown",
   "id": "689a3ffd-fcc9-45de-b790-5060d1fefe04",
   "metadata": {},
   "source": [
    "Some of the commonly used libraries used by Data Scientists include:\n",
    "\n",
    "1. Pandas\n",
    "2. NumPy\n",
    "3. Scikit-learn\n",
    "4. TensorFlow\n",
    "5. Matplotlib\n"
   ]
  },
  {
   "cell_type": "markdown",
   "id": "8141d46c-4a6d-4cca-b958-02d26810ff2e",
   "metadata": {},
   "source": [
    "| Data Science Tools |\n",
    "|--------------------|\n",
    "| Jupyter Notebook  |\n",
    "| RStudio           |\n",
    "| Apache Zeppelin   |\n"
   ]
  },
  {
   "cell_type": "markdown",
   "id": "8ef5bd69-87c1-49ca-b4c9-6951c7636cc6",
   "metadata": {},
   "source": [
    "### Below are a few examples of evaluating arithmetic expressions in Python."
   ]
  },
  {
   "cell_type": "code",
   "execution_count": 1,
   "id": "e3431c38-302b-41e5-a222-34d5668bd67b",
   "metadata": {},
   "outputs": [
    {
     "data": {
      "text/plain": [
       "17"
      ]
     },
     "execution_count": 1,
     "metadata": {},
     "output_type": "execute_result"
    }
   ],
   "source": [
    "# This a simple arithmetic expression to multiply then add integers.\n",
    "(3 * 4) + 5"
   ]
  },
  {
   "cell_type": "code",
   "execution_count": 2,
   "id": "fed18a3d-04b8-434e-af4a-d8b9e394ba0f",
   "metadata": {},
   "outputs": [
    {
     "data": {
      "text/plain": [
       "3.3333333333333335"
      ]
     },
     "execution_count": 2,
     "metadata": {},
     "output_type": "execute_result"
    }
   ],
   "source": [
    "# This will convert 200 minutes to hours by dividing by 60.\n",
    "200 / 60"
   ]
  },
  {
   "cell_type": "code",
   "execution_count": null,
   "id": "d3e94546-0a19-4195-9a01-125d1ff66e31",
   "metadata": {},
   "outputs": [],
   "source": []
  }
 ],
 "metadata": {
  "kernelspec": {
   "display_name": "Python 3 (ipykernel)",
   "language": "python",
   "name": "python3"
  },
  "language_info": {
   "codemirror_mode": {
    "name": "ipython",
    "version": 3
   },
   "file_extension": ".py",
   "mimetype": "text/x-python",
   "name": "python",
   "nbconvert_exporter": "python",
   "pygments_lexer": "ipython3",
   "version": "3.12.8"
  }
 },
 "nbformat": 4,
 "nbformat_minor": 5
}
